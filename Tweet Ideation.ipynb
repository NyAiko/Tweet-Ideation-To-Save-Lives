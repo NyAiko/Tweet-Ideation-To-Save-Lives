{
 "cells": [
  {
   "cell_type": "markdown",
   "id": "eaffcc56",
   "metadata": {
    "slideshow": {
     "slide_type": "slide"
    }
   },
   "source": [
    "# Tweet Ideation: Suicide or Not Suicide"
   ]
  },
  {
   "cell_type": "code",
   "execution_count": 1,
   "id": "b4b31a0c",
   "metadata": {
    "slideshow": {
     "slide_type": "skip"
    }
   },
   "outputs": [],
   "source": [
    "import numpy as np\n",
    "import pandas as pd\n",
    "import matplotlib.pyplot as plt\n",
    "import seaborn as sns"
   ]
  },
  {
   "cell_type": "code",
   "execution_count": 2,
   "id": "96b324f0",
   "metadata": {
    "slideshow": {
     "slide_type": "subslide"
    }
   },
   "outputs": [
    {
     "data": {
      "text/html": [
       "<div>\n",
       "<style scoped>\n",
       "    .dataframe tbody tr th:only-of-type {\n",
       "        vertical-align: middle;\n",
       "    }\n",
       "\n",
       "    .dataframe tbody tr th {\n",
       "        vertical-align: top;\n",
       "    }\n",
       "\n",
       "    .dataframe thead th {\n",
       "        text-align: right;\n",
       "    }\n",
       "</style>\n",
       "<table border=\"1\" class=\"dataframe\">\n",
       "  <thead>\n",
       "    <tr style=\"text-align: right;\">\n",
       "      <th></th>\n",
       "      <th>Tweet</th>\n",
       "      <th>Suicide</th>\n",
       "    </tr>\n",
       "  </thead>\n",
       "  <tbody>\n",
       "    <tr>\n",
       "      <th>0</th>\n",
       "      <td>making some lunch</td>\n",
       "      <td>Not Suicide post</td>\n",
       "    </tr>\n",
       "    <tr>\n",
       "      <th>1</th>\n",
       "      <td>@Alexia You want his money.</td>\n",
       "      <td>Not Suicide post</td>\n",
       "    </tr>\n",
       "    <tr>\n",
       "      <th>2</th>\n",
       "      <td>@dizzyhrvy that crap took me forever to put to...</td>\n",
       "      <td>Potential Suicide post</td>\n",
       "    </tr>\n",
       "    <tr>\n",
       "      <th>3</th>\n",
       "      <td>@jnaylor #kiwitweets Hey Jer! Since when did y...</td>\n",
       "      <td>Not Suicide post</td>\n",
       "    </tr>\n",
       "    <tr>\n",
       "      <th>4</th>\n",
       "      <td>Trying out &amp;quot;Delicious Library 2&amp;quot; wit...</td>\n",
       "      <td>Not Suicide post</td>\n",
       "    </tr>\n",
       "    <tr>\n",
       "      <th>...</th>\n",
       "      <td>...</td>\n",
       "      <td>...</td>\n",
       "    </tr>\n",
       "    <tr>\n",
       "      <th>1782</th>\n",
       "      <td>i have forgotten how much i love my Nokia N95-1</td>\n",
       "      <td>Not Suicide post</td>\n",
       "    </tr>\n",
       "    <tr>\n",
       "      <th>1783</th>\n",
       "      <td>Starting my day out with a positive attitude! ...</td>\n",
       "      <td>Not Suicide post</td>\n",
       "    </tr>\n",
       "    <tr>\n",
       "      <th>1784</th>\n",
       "      <td>@belledame222 Hey, it's 5 am...give a girl som...</td>\n",
       "      <td>Not Suicide post</td>\n",
       "    </tr>\n",
       "    <tr>\n",
       "      <th>1785</th>\n",
       "      <td>2 drunken besties stumble into my room and we ...</td>\n",
       "      <td>Not Suicide post</td>\n",
       "    </tr>\n",
       "    <tr>\n",
       "      <th>1786</th>\n",
       "      <td>@dancingbonita &amp;quot;I friggin love you!!!&amp;quo...</td>\n",
       "      <td>Not Suicide post</td>\n",
       "    </tr>\n",
       "  </tbody>\n",
       "</table>\n",
       "<p>1787 rows × 2 columns</p>\n",
       "</div>"
      ],
      "text/plain": [
       "                                                  Tweet  \\\n",
       "0                                     making some lunch   \n",
       "1                           @Alexia You want his money.   \n",
       "2     @dizzyhrvy that crap took me forever to put to...   \n",
       "3     @jnaylor #kiwitweets Hey Jer! Since when did y...   \n",
       "4     Trying out &quot;Delicious Library 2&quot; wit...   \n",
       "...                                                 ...   \n",
       "1782    i have forgotten how much i love my Nokia N95-1   \n",
       "1783  Starting my day out with a positive attitude! ...   \n",
       "1784  @belledame222 Hey, it's 5 am...give a girl som...   \n",
       "1785  2 drunken besties stumble into my room and we ...   \n",
       "1786  @dancingbonita &quot;I friggin love you!!!&quo...   \n",
       "\n",
       "                      Suicide  \n",
       "0            Not Suicide post  \n",
       "1            Not Suicide post  \n",
       "2     Potential Suicide post   \n",
       "3            Not Suicide post  \n",
       "4            Not Suicide post  \n",
       "...                       ...  \n",
       "1782         Not Suicide post  \n",
       "1783         Not Suicide post  \n",
       "1784         Not Suicide post  \n",
       "1785         Not Suicide post  \n",
       "1786         Not Suicide post  \n",
       "\n",
       "[1787 rows x 2 columns]"
      ]
     },
     "execution_count": 2,
     "metadata": {},
     "output_type": "execute_result"
    }
   ],
   "source": [
    "df = pd.read_csv('Suicide_Ideation_Dataset(Twitter-based).csv')\n",
    "df"
   ]
  },
  {
   "cell_type": "markdown",
   "id": "c7ded9f2",
   "metadata": {
    "slideshow": {
     "slide_type": "slide"
    }
   },
   "source": [
    "# Data Cleaning"
   ]
  },
  {
   "cell_type": "code",
   "execution_count": 3,
   "id": "fa98895b",
   "metadata": {
    "slideshow": {
     "slide_type": "skip"
    }
   },
   "outputs": [],
   "source": [
    "import nltk\n",
    "from nltk.corpus import stopwords\n",
    "from collections import Counter"
   ]
  },
  {
   "cell_type": "code",
   "execution_count": 4,
   "id": "0dfc9a02",
   "metadata": {
    "slideshow": {
     "slide_type": "skip"
    }
   },
   "outputs": [],
   "source": [
    "import re\n",
    "import nltk\n",
    "from nltk.corpus import stopwords\n",
    "from nltk.stem import WordNetLemmatizer, PorterStemmer\n",
    "\n",
    "def remove_spec(text):\n",
    "    #remove punctuations and numbers\n",
    "    text = re.sub(r'[^\\w\\s]', '', text)\n",
    "    text = re.sub(r'\\d+', '', text)\n",
    "    \n",
    "    # Remove hashtags\n",
    "    text = re.sub(r'#\\w+', '', text)\n",
    "    \n",
    "    # Remove @usernames\n",
    "    text = re.sub(r'@\\w+', '', text)\n",
    "    \n",
    "    # Remove HTTP links\n",
    "    text = re.sub(r'http\\S+', '', text)\n",
    "    \n",
    "    # Remove extra whitespace and trim the text\n",
    "    text = re.sub(r'\\s+', ' ', text).strip()\n",
    "    \n",
    "    # Convert text to lowercase (optional)\n",
    "    text = text.lower()\n",
    "    return text\n",
    "\n",
    "def remove_stopwords(text):\n",
    "    # Tokenize the text into words\n",
    "    words = nltk.word_tokenize(text)\n",
    "    # Get the list of English stopwords\n",
    "    stop_words = set(stopwords.words('english'))\n",
    "    # Remove stopwords from the list of words\n",
    "    filtered_words = [word for word in words if word not in stop_words]\n",
    "    # Reconstruct the text from the filtered words\n",
    "    filtered_text = ' '.join(filtered_words)\n",
    "    return filtered_text\n",
    "\n",
    "def lemmatize(text):\n",
    "    lemmatizer = WordNetLemmatizer()\n",
    "    words = nltk.word_tokenize(text)\n",
    "    lemmatized_words = [lemmatizer.lemmatize(word) for word in words]\n",
    "    lemmatized_text = ' '.join(lemmatized_words)\n",
    "    return lemmatized_text\n",
    "\n",
    "def stem(text):\n",
    "    stemmer = PorterStemmer()\n",
    "    words = nltk.word_tokenize(text)\n",
    "    stemmed_words = [stemmer.stem(word) for word in words]\n",
    "    stemmed_text = ' '.join(stemmed_words)\n",
    "    return stemmed_text\n",
    "\n",
    "def normalize_text(text):\n",
    "    text = str(text)\n",
    "    text = remove_spec(text)\n",
    "    text = remove_stopwords(text)\n",
    "    text = stem(text)\n",
    "    text = lemmatize(text)\n",
    "    return text\n"
   ]
  },
  {
   "cell_type": "code",
   "execution_count": 5,
   "id": "516feedf",
   "metadata": {
    "slideshow": {
     "slide_type": "skip"
    }
   },
   "outputs": [],
   "source": [
    "df['Tweet_clean']=df['Tweet'].apply(normalize_text)"
   ]
  },
  {
   "cell_type": "code",
   "execution_count": 6,
   "id": "5da63dd8",
   "metadata": {},
   "outputs": [
    {
     "data": {
      "text/plain": [
       "1"
      ]
     },
     "execution_count": 6,
     "metadata": {},
     "output_type": "execute_result"
    }
   ],
   "source": [
    "def get_nb_words(x):\n",
    "    N = len(x.split())\n",
    "    if N==0:\n",
    "        return -1\n",
    "    else:\n",
    "        return N\n",
    "df['Word_in_tweet']=df['Tweet_clean'].apply(get_nb_words)\n",
    "(df['Word_in_tweet']==-1).sum()"
   ]
  },
  {
   "cell_type": "code",
   "execution_count": 7,
   "id": "350fe98a",
   "metadata": {},
   "outputs": [
    {
     "data": {
      "text/html": [
       "<div>\n",
       "<style scoped>\n",
       "    .dataframe tbody tr th:only-of-type {\n",
       "        vertical-align: middle;\n",
       "    }\n",
       "\n",
       "    .dataframe tbody tr th {\n",
       "        vertical-align: top;\n",
       "    }\n",
       "\n",
       "    .dataframe thead th {\n",
       "        text-align: right;\n",
       "    }\n",
       "</style>\n",
       "<table border=\"1\" class=\"dataframe\">\n",
       "  <thead>\n",
       "    <tr style=\"text-align: right;\">\n",
       "      <th></th>\n",
       "      <th>Tweet</th>\n",
       "      <th>Suicide</th>\n",
       "      <th>Tweet_clean</th>\n",
       "      <th>Word_in_tweet</th>\n",
       "    </tr>\n",
       "  </thead>\n",
       "  <tbody>\n",
       "    <tr>\n",
       "      <th>2</th>\n",
       "      <td>@dizzyhrvy that crap took me forever to put to...</td>\n",
       "      <td>Potential Suicide post</td>\n",
       "      <td>dizzyhrvi crap took forev put togeth iâm go go...</td>\n",
       "      <td>11</td>\n",
       "    </tr>\n",
       "    <tr>\n",
       "      <th>3</th>\n",
       "      <td>@jnaylor #kiwitweets Hey Jer! Since when did y...</td>\n",
       "      <td>Not Suicide post</td>\n",
       "      <td>jnaylor kiwitweet hey jer sinc start twitter</td>\n",
       "      <td>7</td>\n",
       "    </tr>\n",
       "    <tr>\n",
       "      <th>4</th>\n",
       "      <td>Trying out &amp;quot;Delicious Library 2&amp;quot; wit...</td>\n",
       "      <td>Not Suicide post</td>\n",
       "      <td>tri quotdelici librari quot mix result bar cod...</td>\n",
       "      <td>18</td>\n",
       "    </tr>\n",
       "    <tr>\n",
       "      <th>5</th>\n",
       "      <td>@ValenValdez Oh, that's good to hear. But is i...</td>\n",
       "      <td>Not Suicide post</td>\n",
       "      <td>valenvaldez oh that good hear alreadi youll co...</td>\n",
       "      <td>10</td>\n",
       "    </tr>\n",
       "    <tr>\n",
       "      <th>6</th>\n",
       "      <td>@mcm180 u've got a list for fellow #hotties? Y...</td>\n",
       "      <td>Not Suicide post</td>\n",
       "      <td>mcm uve got list fellow hotti gon na share one...</td>\n",
       "      <td>11</td>\n",
       "    </tr>\n",
       "    <tr>\n",
       "      <th>...</th>\n",
       "      <td>...</td>\n",
       "      <td>...</td>\n",
       "      <td>...</td>\n",
       "      <td>...</td>\n",
       "    </tr>\n",
       "    <tr>\n",
       "      <th>1779</th>\n",
       "      <td>some days i feel deeply depressed i am a highl...</td>\n",
       "      <td>Potential Suicide post</td>\n",
       "      <td>day feel deepli depress highli sensit person d...</td>\n",
       "      <td>52</td>\n",
       "    </tr>\n",
       "    <tr>\n",
       "      <th>1781</th>\n",
       "      <td>standing in supermarket line and thinking how ...</td>\n",
       "      <td>Potential Suicide post</td>\n",
       "      <td>stand supermarket line think feel jump high st...</td>\n",
       "      <td>98</td>\n",
       "    </tr>\n",
       "    <tr>\n",
       "      <th>1783</th>\n",
       "      <td>Starting my day out with a positive attitude! ...</td>\n",
       "      <td>Not Suicide post</td>\n",
       "      <td>start day posit attitud great watch great</td>\n",
       "      <td>7</td>\n",
       "    </tr>\n",
       "    <tr>\n",
       "      <th>1785</th>\n",
       "      <td>2 drunken besties stumble into my room and we ...</td>\n",
       "      <td>Not Suicide post</td>\n",
       "      <td>drunken besti stumbl room run around sober cj ...</td>\n",
       "      <td>14</td>\n",
       "    </tr>\n",
       "    <tr>\n",
       "      <th>1786</th>\n",
       "      <td>@dancingbonita &amp;quot;I friggin love you!!!&amp;quo...</td>\n",
       "      <td>Not Suicide post</td>\n",
       "      <td>dancingbonita quoti friggin love youquot ron b...</td>\n",
       "      <td>9</td>\n",
       "    </tr>\n",
       "  </tbody>\n",
       "</table>\n",
       "<p>1152 rows × 4 columns</p>\n",
       "</div>"
      ],
      "text/plain": [
       "                                                  Tweet  \\\n",
       "2     @dizzyhrvy that crap took me forever to put to...   \n",
       "3     @jnaylor #kiwitweets Hey Jer! Since when did y...   \n",
       "4     Trying out &quot;Delicious Library 2&quot; wit...   \n",
       "5     @ValenValdez Oh, that's good to hear. But is i...   \n",
       "6     @mcm180 u've got a list for fellow #hotties? Y...   \n",
       "...                                                 ...   \n",
       "1779  some days i feel deeply depressed i am a highl...   \n",
       "1781  standing in supermarket line and thinking how ...   \n",
       "1783  Starting my day out with a positive attitude! ...   \n",
       "1785  2 drunken besties stumble into my room and we ...   \n",
       "1786  @dancingbonita &quot;I friggin love you!!!&quo...   \n",
       "\n",
       "                      Suicide  \\\n",
       "2     Potential Suicide post    \n",
       "3            Not Suicide post   \n",
       "4            Not Suicide post   \n",
       "5            Not Suicide post   \n",
       "6            Not Suicide post   \n",
       "...                       ...   \n",
       "1779  Potential Suicide post    \n",
       "1781  Potential Suicide post    \n",
       "1783         Not Suicide post   \n",
       "1785         Not Suicide post   \n",
       "1786         Not Suicide post   \n",
       "\n",
       "                                            Tweet_clean  Word_in_tweet  \n",
       "2     dizzyhrvi crap took forev put togeth iâm go go...             11  \n",
       "3          jnaylor kiwitweet hey jer sinc start twitter              7  \n",
       "4     tri quotdelici librari quot mix result bar cod...             18  \n",
       "5     valenvaldez oh that good hear alreadi youll co...             10  \n",
       "6     mcm uve got list fellow hotti gon na share one...             11  \n",
       "...                                                 ...            ...  \n",
       "1779  day feel deepli depress highli sensit person d...             52  \n",
       "1781  stand supermarket line think feel jump high st...             98  \n",
       "1783          start day posit attitud great watch great              7  \n",
       "1785  drunken besti stumbl room run around sober cj ...             14  \n",
       "1786  dancingbonita quoti friggin love youquot ron b...              9  \n",
       "\n",
       "[1152 rows x 4 columns]"
      ]
     },
     "execution_count": 7,
     "metadata": {},
     "output_type": "execute_result"
    }
   ],
   "source": [
    "df_clean = df[df['Word_in_tweet']>=7]\n",
    "df_clean"
   ]
  },
  {
   "cell_type": "code",
   "execution_count": 8,
   "id": "79f152f2",
   "metadata": {
    "slideshow": {
     "slide_type": "skip"
    }
   },
   "outputs": [],
   "source": [
    "X = df_clean['Tweet_clean']\n",
    "y = df_clean['Suicide'].astype('category').replace({'Not Suicide post':0,'Potential Suicide post ':1})"
   ]
  },
  {
   "cell_type": "markdown",
   "id": "2234a91f",
   "metadata": {
    "slideshow": {
     "slide_type": "slide"
    }
   },
   "source": [
    "# Exploratory Data Analysis"
   ]
  },
  {
   "cell_type": "code",
   "execution_count": 9,
   "id": "e9cf6dc4",
   "metadata": {},
   "outputs": [
    {
     "name": "stderr",
     "output_type": "stream",
     "text": [
      "/tmp/ipykernel_3744/2932515384.py:1: UserWarning: Boolean Series key will be reindexed to match DataFrame index.\n",
      "  df_clean[['Word_in_tweet']][df['Suicide']=='Potential Suicide post '].describe()\n"
     ]
    },
    {
     "data": {
      "text/html": [
       "<div>\n",
       "<style scoped>\n",
       "    .dataframe tbody tr th:only-of-type {\n",
       "        vertical-align: middle;\n",
       "    }\n",
       "\n",
       "    .dataframe tbody tr th {\n",
       "        vertical-align: top;\n",
       "    }\n",
       "\n",
       "    .dataframe thead th {\n",
       "        text-align: right;\n",
       "    }\n",
       "</style>\n",
       "<table border=\"1\" class=\"dataframe\">\n",
       "  <thead>\n",
       "    <tr style=\"text-align: right;\">\n",
       "      <th></th>\n",
       "      <th>Word_in_tweet</th>\n",
       "    </tr>\n",
       "  </thead>\n",
       "  <tbody>\n",
       "    <tr>\n",
       "      <th>count</th>\n",
       "      <td>529.000000</td>\n",
       "    </tr>\n",
       "    <tr>\n",
       "      <th>mean</th>\n",
       "      <td>17.476371</td>\n",
       "    </tr>\n",
       "    <tr>\n",
       "      <th>std</th>\n",
       "      <td>15.530637</td>\n",
       "    </tr>\n",
       "    <tr>\n",
       "      <th>min</th>\n",
       "      <td>7.000000</td>\n",
       "    </tr>\n",
       "    <tr>\n",
       "      <th>25%</th>\n",
       "      <td>10.000000</td>\n",
       "    </tr>\n",
       "    <tr>\n",
       "      <th>50%</th>\n",
       "      <td>13.000000</td>\n",
       "    </tr>\n",
       "    <tr>\n",
       "      <th>75%</th>\n",
       "      <td>16.000000</td>\n",
       "    </tr>\n",
       "    <tr>\n",
       "      <th>max</th>\n",
       "      <td>115.000000</td>\n",
       "    </tr>\n",
       "  </tbody>\n",
       "</table>\n",
       "</div>"
      ],
      "text/plain": [
       "       Word_in_tweet\n",
       "count     529.000000\n",
       "mean       17.476371\n",
       "std        15.530637\n",
       "min         7.000000\n",
       "25%        10.000000\n",
       "50%        13.000000\n",
       "75%        16.000000\n",
       "max       115.000000"
      ]
     },
     "execution_count": 9,
     "metadata": {},
     "output_type": "execute_result"
    }
   ],
   "source": [
    "df_clean[['Word_in_tweet']][df['Suicide']=='Potential Suicide post '].describe()"
   ]
  },
  {
   "cell_type": "code",
   "execution_count": 10,
   "id": "3adf4bd3",
   "metadata": {},
   "outputs": [
    {
     "name": "stderr",
     "output_type": "stream",
     "text": [
      "/tmp/ipykernel_3744/4122574162.py:1: UserWarning: Boolean Series key will be reindexed to match DataFrame index.\n",
      "  df_clean[['Word_in_tweet']][df['Suicide']=='Potential Suicide post '].boxplot()\n"
     ]
    },
    {
     "data": {
      "text/plain": [
       "<AxesSubplot:>"
      ]
     },
     "execution_count": 10,
     "metadata": {},
     "output_type": "execute_result"
    },
    {
     "data": {
      "image/png": "[encoded data removed]",
      "text/plain": [
       "<Figure size 432x288 with 1 Axes>"
      ]
     },
     "metadata": {
      "needs_background": "light"
     },
     "output_type": "display_data"
    }
   ],
   "source": [
    "df_clean[['Word_in_tweet']][df['Suicide']=='Potential Suicide post '].boxplot()"
   ]
  },
  {
   "cell_type": "code",
   "execution_count": 11,
   "id": "6f305cfd",
   "metadata": {},
   "outputs": [
    {
     "name": "stderr",
     "output_type": "stream",
     "text": [
      "/tmp/ipykernel_3744/573288041.py:1: UserWarning: Boolean Series key will be reindexed to match DataFrame index.\n",
      "  df_clean[['Word_in_tweet']][df['Suicide']!='Potential Suicide post '].boxplot()\n"
     ]
    },
    {
     "data": {
      "text/plain": [
       "<AxesSubplot:>"
      ]
     },
     "execution_count": 11,
     "metadata": {},
     "output_type": "execute_result"
    },
    {
     "data": {
      "image/png": "[encoded data removed]",
      "text/plain": [
       "<Figure size 432x288 with 1 Axes>"
      ]
     },
     "metadata": {
      "needs_background": "light"
     },
     "output_type": "display_data"
    }
   ],
   "source": [
    "df_clean[['Word_in_tweet']][df['Suicide']!='Potential Suicide post '].boxplot()"
   ]
  },
  {
   "cell_type": "code",
   "execution_count": 12,
   "id": "3b3e8bc5",
   "metadata": {},
   "outputs": [],
   "source": [
    "import matplotlib.pyplot as plt\n",
    "def count_words(df):\n",
    "    word_count = Counter()\n",
    "    for tweet in df['Tweet_clean']:\n",
    "        for word in tweet.split():\n",
    "            word_count[word]=word_count[word]+1\n",
    "    return word_count\n",
    "def word_counts_per_class():\n",
    "    s_count = count_words(df[df['Suicide']=='Not Suicide post'])\n",
    "    ns_count = count_words(df[df['Suicide']=='Potential Suicide post '])\n",
    "    return s_count,ns_count\n",
    "\n",
    "def make_counts(word_counts, top_n=10,label=''):    \n",
    "    # Sort the word counts by count in descending order and take the top N words\n",
    "    sorted_word_counts = sorted(word_counts.items(), key=lambda x: x[1], reverse=True)[:top_n]\n",
    "    \n",
    "    # Extract words and their respective counts\n",
    "    words, counts = zip(*sorted_word_counts)\n",
    "    \n",
    "    return words,counts\n",
    "    \n",
    "def plot_top_words(word_counts, top_n=10,label=''):\n",
    "    words, counts=make_counts(word_counts, top_n,label)\n",
    "    \n",
    "    # Create a bar chart\n",
    "    plt.figure(figsize=(6, 3))\n",
    "    plt.bar(words, counts, color='skyblue')\n",
    "    plt.xlabel('Words')\n",
    "    plt.ylabel('Count')\n",
    "    plt.title(f'Top {top_n} Most Common Words - {label}')\n",
    "    plt.xticks(rotation=90)\n",
    "    plt.tight_layout()\n",
    "    \n",
    "    # Show the plot\n",
    "    plt.show()\n",
    "\n",
    "def plot_top_words_in_classes(word_counts,ns_count,s_count):\n",
    "    top_n = 15\n",
    "    words, counts=make_counts(word_counts, top_n=top_n,label='')\n",
    "    suicide_counts = []\n",
    "    nonsuicide_counts = []\n",
    "    \n",
    "    for w in words:\n",
    "        suicide_counts.append(s_count[w])\n",
    "        nonsuicide_counts.append(-1*ns_count[w])\n",
    "    plt.figure(figsize=(12,4))\n",
    "    plt.bar(x=words,height=nonsuicide_counts,color='skyblue',label='Non suicide post')\n",
    "    plt.bar(x=words,height=suicide_counts,color='gray',label='Suicide post')\n",
    "    plt.xticks(rotation=45)\n",
    "    plt.title(f'Top {top_n}most used word')\n",
    "    plt.legend()\n",
    "    plt.tight_layout()\n",
    "    "
   ]
  },
  {
   "cell_type": "code",
   "execution_count": 13,
   "id": "3257492f",
   "metadata": {
    "slideshow": {
     "slide_type": "skip"
    }
   },
   "outputs": [],
   "source": [
    "word_count = count_words(df)\n",
    "nonsui_count,sui_count = word_counts_per_class()"
   ]
  },
  {
   "cell_type": "code",
   "execution_count": 14,
   "id": "78213652",
   "metadata": {},
   "outputs": [],
   "source": [
    "w,c = make_counts(word_count,10,label=1)"
   ]
  },
  {
   "cell_type": "code",
   "execution_count": 15,
   "id": "260faa98",
   "metadata": {
    "slideshow": {
     "slide_type": "skip"
    }
   },
   "outputs": [
    {
     "data": {
      "image/png": "[encoded data removed]",
      "text/plain": [
       "<Figure size 432x216 with 1 Axes>"
      ]
     },
     "metadata": {
      "needs_background": "light"
     },
     "output_type": "display_data"
    }
   ],
   "source": [
    "plot_top_words(word_count,top_n=10)"
   ]
  },
  {
   "cell_type": "code",
   "execution_count": 16,
   "id": "b07e8935",
   "metadata": {},
   "outputs": [
    {
     "data": {
      "image/png": "[encoded data removed]",
      "text/plain": [
       "<Figure size 432x216 with 1 Axes>"
      ]
     },
     "metadata": {
      "needs_background": "light"
     },
     "output_type": "display_data"
    }
   ],
   "source": [
    "plot_top_words(sui_count,label='Suicide ')"
   ]
  },
  {
   "cell_type": "code",
   "execution_count": 17,
   "id": "b9cd1296",
   "metadata": {},
   "outputs": [
    {
     "data": {
      "image/png": "[encoded data removed]",
      "text/plain": [
       "<Figure size 432x216 with 1 Axes>"
      ]
     },
     "metadata": {
      "needs_background": "light"
     },
     "output_type": "display_data"
    }
   ],
   "source": [
    "plot_top_words(nonsui_count,label='Non suicide')"
   ]
  },
  {
   "cell_type": "code",
   "execution_count": 18,
   "id": "76ff2155",
   "metadata": {},
   "outputs": [
    {
     "data": {
      "image/png": "[encoded data removed]",
      "text/plain": [
       "<Figure size 864x288 with 1 Axes>"
      ]
     },
     "metadata": {
      "needs_background": "light"
     },
     "output_type": "display_data"
    }
   ],
   "source": [
    "plot_top_words_in_classes(word_count,nonsui_count,sui_count)"
   ]
  },
  {
   "cell_type": "markdown",
   "id": "d9e75103",
   "metadata": {},
   "source": [
    "# Training the Machine Learning model"
   ]
  },
  {
   "cell_type": "code",
   "execution_count": 19,
   "id": "f5a4851a",
   "metadata": {},
   "outputs": [],
   "source": [
    "from sklearn.model_selection import train_test_split\n",
    "X_train,X_test,Y_train,Y_test = train_test_split(X,y,stratify=y,test_size=0.2,shuffle=True)"
   ]
  },
  {
   "cell_type": "code",
   "execution_count": 20,
   "id": "2ee862ed",
   "metadata": {},
   "outputs": [],
   "source": [
    "from sklearn.model_selection import GridSearchCV,learning_curve\n",
    "from sklearn.metrics import ConfusionMatrixDisplay,confusion_matrix,classification_report\n",
    "from sklearn.preprocessing import RobustScaler\n",
    "\n",
    "from sklearn.feature_extraction.text import TfidfVectorizer\n",
    "vec = TfidfVectorizer(ngram_range=(1,1))\n",
    "\n",
    "from sklearn.pipeline import Pipeline,make_pipeline\n",
    "from sklearn.linear_model import LogisticRegression\n",
    "\n",
    "\n",
    "preprocessor = make_pipeline(vec,RobustScaler(with_centering=False))"
   ]
  },
  {
   "cell_type": "code",
   "execution_count": 21,
   "id": "2c3239cc",
   "metadata": {},
   "outputs": [],
   "source": [
    "def plot_learning_curve(model,scoring='accuracy'):\n",
    "    train_sizes, train_scores, validation_scores = learning_curve(model,X_train,Y_train,scoring=scoring)\n",
    "    train_scores_mean = np.mean(train_scores, axis=1)\n",
    "    train_scores_std = np.std(train_scores, axis=1)\n",
    "    validation_scores_mean = np.mean(validation_scores, axis=1)\n",
    "    validation_scores_std = np.std(validation_scores, axis=1)\n",
    "    plt.figure(figsize=(7, 4))\n",
    "    plt.fill_between(train_sizes,train_scores_mean - train_scores_std,train_scores_mean + train_scores_std,alpha=0.1, color=\"blue\")\n",
    "    plt.fill_between(train_sizes, validation_scores_mean - validation_scores_std,validation_scores_mean + validation_scores_std, alpha=0.1, color=\"red\")\n",
    "    plt.plot(train_sizes, train_scores_mean, 'o-', color=\"blue\", label=\"Training score\")\n",
    "    plt.plot(train_sizes, validation_scores_mean, 'o-', color=\"red\", label=\"Cross-validation score\")\n",
    "    plt.xlabel(\"Training examples\")\n",
    "    plt.ylabel(\"Score\")\n",
    "    plt.legend(loc=\"best\")\n",
    "    plt.title(\"Learning Curves\")\n",
    "    plt.show()\n",
    "    \n",
    "def evaluate_model(model):\n",
    "    y_pred = model.predict(X_test)\n",
    "    cm = confusion_matrix(Y_test,y_pred)\n",
    "    ConfusionMatrixDisplay(cm,display_labels=['Not Suicide','Suicide']).plot()\n",
    "    print(classification_report(Y_test,y_pred))\n",
    "    plot_learning_curve(model,scoring='accuracy')\n",
    "\n",
    "def tune_hyperparameters(model,grid,scoring='accuracy'):\n",
    "    gs = GridSearchCV(estimator=model,param_grid=grid,n_jobs=4,scoring=scoring)\n",
    "    gs.fit(X_train,Y_train)\n",
    "    print('Best Score: ',gs.best_score_)\n",
    "    print('Best parameters: ',gs.best_params_)\n",
    "    evaluate_model(model)\n",
    "    return gs.best_estimator_\n",
    "\n",
    "def train_and_eval(estimator):\n",
    "    steps = [('preprocessor',preprocessor),('estimator',estimator)]\n",
    "    model = Pipeline(steps=steps)\n",
    "    model.fit(X_train,Y_train)\n",
    "    evaluate_model(model)\n",
    "    return model"
   ]
  },
  {
   "cell_type": "code",
   "execution_count": 22,
   "id": "137403c9",
   "metadata": {
    "scrolled": true
   },
   "outputs": [
    {
     "name": "stdout",
     "output_type": "stream",
     "text": [
      "              precision    recall  f1-score   support\n",
      "\n",
      "           0       0.91      0.94      0.92       125\n",
      "           1       0.92      0.90      0.91       106\n",
      "\n",
      "    accuracy                           0.92       231\n",
      "   macro avg       0.92      0.92      0.92       231\n",
      "weighted avg       0.92      0.92      0.92       231\n",
      "\n"
     ]
    },
    {
     "data": {
      "image/png": "[encoded data removed]",
      "text/plain": [
       "<Figure size 432x288 with 2 Axes>"
      ]
     },
     "metadata": {
      "needs_background": "light"
     },
     "output_type": "display_data"
    },
    {
     "data": {
      "image/png": "[encoded data removed]",
      "text/plain": [
       "<Figure size 504x288 with 1 Axes>"
      ]
     },
     "metadata": {
      "needs_background": "light"
     },
     "output_type": "display_data"
    }
   ],
   "source": [
    "model=train_and_eval(LogisticRegression(class_weight='balanced',n_jobs=4))"
   ]
  },
  {
   "cell_type": "code",
   "execution_count": 23,
   "id": "3f634541",
   "metadata": {
    "slideshow": {
     "slide_type": "subslide"
    }
   },
   "outputs": [
    {
     "name": "stdout",
     "output_type": "stream",
     "text": [
      "Best Score:  0.9007002801120448\n",
      "Best parameters:  {'estimator__C': 500}\n",
      "              precision    recall  f1-score   support\n",
      "\n",
      "           0       0.91      0.94      0.92       125\n",
      "           1       0.92      0.90      0.91       106\n",
      "\n",
      "    accuracy                           0.92       231\n",
      "   macro avg       0.92      0.92      0.92       231\n",
      "weighted avg       0.92      0.92      0.92       231\n",
      "\n"
     ]
    },
    {
     "data": {
      "image/png": "[encoded data removed]",
      "text/plain": [
       "<Figure size 432x288 with 2 Axes>"
      ]
     },
     "metadata": {
      "needs_background": "light"
     },
     "output_type": "display_data"
    },
    {
     "data": {
      "image/png": "[encoded data removed]",
      "text/plain": [
       "<Figure size 504x288 with 1 Axes>"
      ]
     },
     "metadata": {
      "needs_background": "light"
     },
     "output_type": "display_data"
    }
   ],
   "source": [
    "grid = {\n",
    "    'estimator__C': [0.01,1,5,100,500,900,1200],\n",
    "}\n",
    "best_candidate=tune_hyperparameters(model,grid=grid,scoring='recall')"
   ]
  },
  {
   "cell_type": "markdown",
   "id": "4abbf485",
   "metadata": {
    "slideshow": {
     "slide_type": "subslide"
    }
   },
   "source": [
    "# Training a Support Vector Machine"
   ]
  },
  {
   "cell_type": "code",
   "execution_count": 24,
   "id": "ec1e5a39",
   "metadata": {},
   "outputs": [
    {
     "name": "stdout",
     "output_type": "stream",
     "text": [
      "              precision    recall  f1-score   support\n",
      "\n",
      "           0       0.92      0.96      0.94       125\n",
      "           1       0.95      0.90      0.92       106\n",
      "\n",
      "    accuracy                           0.93       231\n",
      "   macro avg       0.93      0.93      0.93       231\n",
      "weighted avg       0.93      0.93      0.93       231\n",
      "\n"
     ]
    },
    {
     "data": {
      "image/png": "[encoded data removed]",
      "text/plain": [
       "<Figure size 432x288 with 2 Axes>"
      ]
     },
     "metadata": {
      "needs_background": "light"
     },
     "output_type": "display_data"
    },
    {
     "data": {
      "image/png": "[encoded data removed]",
      "text/plain": [
       "<Figure size 504x288 with 1 Axes>"
      ]
     },
     "metadata": {
      "needs_background": "light"
     },
     "output_type": "display_data"
    }
   ],
   "source": [
    "from sklearn.svm import SVC\n",
    "svm = train_and_eval(SVC(C=1,gamma=1,class_weight='balanced',probability=True))"
   ]
  },
  {
   "cell_type": "code",
   "execution_count": 25,
   "id": "96d9ca29",
   "metadata": {
    "scrolled": true
   },
   "outputs": [
    {
     "name": "stdout",
     "output_type": "stream",
     "text": [
      "Best Score:  0.8533333333333333\n",
      "Best parameters:  {'estimator__C': 4, 'estimator__gamma': 1}\n",
      "              precision    recall  f1-score   support\n",
      "\n",
      "           0       0.92      0.96      0.94       125\n",
      "           1       0.95      0.90      0.92       106\n",
      "\n",
      "    accuracy                           0.93       231\n",
      "   macro avg       0.93      0.93      0.93       231\n",
      "weighted avg       0.93      0.93      0.93       231\n",
      "\n"
     ]
    },
    {
     "data": {
      "image/png": "[encoded data removed]",
      "text/plain": [
       "<Figure size 432x288 with 2 Axes>"
      ]
     },
     "metadata": {
      "needs_background": "light"
     },
     "output_type": "display_data"
    },
    {
     "data": {
      "image/png": "[encoded data removed]",
      "text/plain": [
       "<Figure size 504x288 with 1 Axes>"
      ]
     },
     "metadata": {
      "needs_background": "light"
     },
     "output_type": "display_data"
    }
   ],
   "source": [
    "grid = {\n",
    "    'estimator__C': [4,5,10,20],\n",
    "    'estimator__gamma': [0.001,1,2]\n",
    "}\n",
    "best_svm = tune_hyperparameters(svm,grid,scoring='recall')"
   ]
  },
  {
   "cell_type": "markdown",
   "id": "0ca21ea6",
   "metadata": {},
   "source": [
    "# Conclusions:\n",
    "\n",
    "- With limited numbers of data, we still have good acceptable performance.\n",
    "- While testing the prediction with some texts, the model performs bad prediction. I seems that sometimes, the classic ml models fails to interpret the vectorized words.\n",
    "- The major advantage of this model is its low resource consumption and fast inference time."
   ]
  },
  {
   "cell_type": "code",
   "execution_count": 27,
   "id": "5d925e0d",
   "metadata": {},
   "outputs": [
    {
     "data": {
      "text/plain": [
       "['model.p']"
      ]
     },
     "execution_count": 27,
     "metadata": {},
     "output_type": "execute_result"
    }
   ],
   "source": [
    "import joblib\n",
    "joblib.dump(best_candidate,'model.p')"
   ]
  },
  {
   "cell_type": "code",
   "execution_count": null,
   "id": "817fdc37",
   "metadata": {},
   "outputs": [],
   "source": []
  }
 ],
 "metadata": {
  "kernelspec": {
   "display_name": "Python 3 (ipykernel)",
   "language": "python",
   "name": "python3"
  },
  "language_info": {
   "codemirror_mode": {
    "name": "ipython",
    "version": 3
   },
   "file_extension": ".py",
   "mimetype": "text/x-python",
   "name": "python",
   "nbconvert_exporter": "python",
   "pygments_lexer": "ipython3",
   "version": "3.9.7"
  }
 },
 "nbformat": 4,
 "nbformat_minor": 5
}
